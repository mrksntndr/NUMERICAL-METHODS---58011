{
  "nbformat": 4,
  "nbformat_minor": 0,
  "metadata": {
    "colab": {
      "name": "Control and Loop Statements.ipynb",
      "provenance": [],
      "authorship_tag": "ABX9TyNPIqIURgFvhYpYmhRBCAix",
      "include_colab_link": true
    },
    "kernelspec": {
      "name": "python3",
      "display_name": "Python 3"
    },
    "language_info": {
      "name": "python"
    }
  },
  "cells": [
    {
      "cell_type": "markdown",
      "metadata": {
        "id": "view-in-github",
        "colab_type": "text"
      },
      "source": [
        "<a href=\"https://colab.research.google.com/github/mrksntndr/NUMERICAL-METHODS---58011/blob/main/Control_and_Loop_Statements.ipynb\" target=\"_parent\"><img src=\"https://colab.research.google.com/assets/colab-badge.svg\" alt=\"Open In Colab\"/></a>"
      ]
    },
    {
      "cell_type": "markdown",
      "source": [
        "##IF STATEMENT"
      ],
      "metadata": {
        "id": "0VvpabJrbohK"
      }
    },
    {
      "cell_type": "code",
      "execution_count": null,
      "metadata": {
        "colab": {
          "base_uri": "https://localhost:8080/"
        },
        "id": "B3RYGssubj8Y",
        "outputId": "1c938ad3-8978-4513-ea34-0dd43dda359d"
      },
      "outputs": [
        {
          "output_type": "stream",
          "name": "stdout",
          "text": [
            "b is greater than a\n"
          ]
        }
      ],
      "source": [
        "a = 12\n",
        "b = 100\n",
        "\n",
        "if b>a:\n",
        "  print(\"b is greater than a\")"
      ]
    },
    {
      "cell_type": "markdown",
      "source": [
        "##ELIF STATEMENT"
      ],
      "metadata": {
        "id": "jahjuoPYcNeJ"
      }
    },
    {
      "cell_type": "code",
      "source": [
        "a = 12\n",
        "b = 12\n",
        "\n",
        "if b>a:\n",
        "  print(\"b is greater than a\")\n",
        "elif a==b:\n",
        "  print(\"a and b are equal\")"
      ],
      "metadata": {
        "colab": {
          "base_uri": "https://localhost:8080/"
        },
        "id": "DWJPPaFHcPUg",
        "outputId": "4bc37f8a-e37e-49c8-dcf7-5755c4d29c63"
      },
      "execution_count": null,
      "outputs": [
        {
          "output_type": "stream",
          "name": "stdout",
          "text": [
            "a and b are equal\n"
          ]
        }
      ]
    },
    {
      "cell_type": "markdown",
      "source": [
        "##ELSE STATEMENT"
      ],
      "metadata": {
        "id": "8lUKa13Mcfji"
      }
    },
    {
      "cell_type": "code",
      "source": [
        "a = 200\n",
        "b = 33\n",
        "\n",
        "if b>a:\n",
        "  print(\"b is greater than a\")\n",
        "elif a==b:\n",
        "  print(\"a and b are equal\")\n",
        "else:\n",
        "  print(\"a is greater than b\")"
      ],
      "metadata": {
        "colab": {
          "base_uri": "https://localhost:8080/"
        },
        "id": "ZMQJvA7jchP1",
        "outputId": "405aad67-1084-4023-b9b5-5102b210a4c0"
      },
      "execution_count": null,
      "outputs": [
        {
          "output_type": "stream",
          "name": "stdout",
          "text": [
            "a is greater than b\n"
          ]
        }
      ]
    },
    {
      "cell_type": "markdown",
      "source": [
        "##SHORT HAND IF STATEMENT"
      ],
      "metadata": {
        "id": "yAAKceEDdpsd"
      }
    },
    {
      "cell_type": "code",
      "source": [
        "a = 12\n",
        "b = 100\n",
        "\n",
        "if b>a: print(\"b is greater than a\")"
      ],
      "metadata": {
        "colab": {
          "base_uri": "https://localhost:8080/"
        },
        "id": "xhtBY7Myd9Bb",
        "outputId": "e0845edb-bc77-4ed6-8c0b-f7d2f1aa9ef1"
      },
      "execution_count": null,
      "outputs": [
        {
          "output_type": "stream",
          "name": "stdout",
          "text": [
            "b is greater than a\n"
          ]
        }
      ]
    },
    {
      "cell_type": "markdown",
      "source": [
        "##SHORT HAND IF ELSE"
      ],
      "metadata": {
        "id": "zpboDajFePix"
      }
    },
    {
      "cell_type": "code",
      "source": [
        "c = 35\n",
        "d = 40\n",
        "\n",
        "print(\"c is greater than d\") if c>d else print(\"d is greater than c\")"
      ],
      "metadata": {
        "colab": {
          "base_uri": "https://localhost:8080/"
        },
        "id": "xwtPnmIweR82",
        "outputId": "ec73d302-5b7c-422a-d031-4780c5ff2fc2"
      },
      "execution_count": null,
      "outputs": [
        {
          "output_type": "stream",
          "name": "stdout",
          "text": [
            "d is greater than c\n"
          ]
        }
      ]
    },
    {
      "cell_type": "markdown",
      "source": [
        "##AND-BOTH CONDITIONS ARE TRUE (AND LOGIC)"
      ],
      "metadata": {
        "id": "89sjK9a1fOJb"
      }
    },
    {
      "cell_type": "code",
      "source": [
        "a = 200\n",
        "b = 33\n",
        "c = 500\n",
        "\n",
        "if a>b and c>a:\n",
        "  print(\"At least one of the conditions is TRUE\")"
      ],
      "metadata": {
        "colab": {
          "base_uri": "https://localhost:8080/"
        },
        "id": "6qntfrcUfR34",
        "outputId": "0cb4888f-a9dc-49eb-83e8-44f914e18bf5"
      },
      "execution_count": null,
      "outputs": [
        {
          "output_type": "stream",
          "name": "stdout",
          "text": [
            "At least one of the conditions is TRUE\n"
          ]
        }
      ]
    },
    {
      "cell_type": "markdown",
      "source": [
        "## IF ONE OF THE CONDITIONS IS TRUE (OR LOGIC)"
      ],
      "metadata": {
        "id": "9Vy_gi3rgHaZ"
      }
    },
    {
      "cell_type": "code",
      "source": [
        "if c>a or b>a:\n",
        "  print(\"If one of the two operands is TRUE\")"
      ],
      "metadata": {
        "colab": {
          "base_uri": "https://localhost:8080/"
        },
        "id": "iHfruAa7gLt7",
        "outputId": "c9d62505-8744-4fc1-8ed5-ac60c4fc3f83"
      },
      "execution_count": null,
      "outputs": [
        {
          "output_type": "stream",
          "name": "stdout",
          "text": [
            "If one of the two operands is TRUE\n"
          ]
        }
      ]
    },
    {
      "cell_type": "markdown",
      "source": [
        "##NESTED IF"
      ],
      "metadata": {
        "id": "5UGyTOTkggGV"
      }
    },
    {
      "cell_type": "code",
      "source": [
        "x = int(input())\n",
        "\n",
        "if x>10:\n",
        "  print(\"Above 10\")\n",
        "if x>20:\n",
        "  print(\"And also above 20!\")\n",
        "else:\n",
        "  print(\"But not above 20.\")"
      ],
      "metadata": {
        "colab": {
          "base_uri": "https://localhost:8080/"
        },
        "id": "cRlFmflkghWe",
        "outputId": "1de7a63e-389c-47ed-ef8c-4ab262e6e312"
      },
      "execution_count": null,
      "outputs": [
        {
          "output_type": "stream",
          "name": "stdout",
          "text": [
            "35\n",
            "Above 10\n",
            "And also above 20!\n"
          ]
        }
      ]
    },
    {
      "cell_type": "markdown",
      "source": [
        "##APPLICATION 1"
      ],
      "metadata": {
        "id": "TLjp_k-yimxQ"
      }
    },
    {
      "cell_type": "code",
      "source": [
        "age = int(input())\n",
        "\n",
        "if age>=18:\n",
        "  print(\"QUALIFIED to vote\")\n",
        "else:\n",
        "  print(\"NOT QUALIFIED to vote\")\n"
      ],
      "metadata": {
        "colab": {
          "base_uri": "https://localhost:8080/"
        },
        "id": "MjYsf2Yein3y",
        "outputId": "5c8306b7-aafd-424a-dc35-20983649b76a"
      },
      "execution_count": null,
      "outputs": [
        {
          "output_type": "stream",
          "name": "stdout",
          "text": [
            "18\n",
            "QUALIFIED to vote\n"
          ]
        }
      ]
    },
    {
      "cell_type": "markdown",
      "source": [
        "##APPLICATION 2"
      ],
      "metadata": {
        "id": "P04KU9ibjrmO"
      }
    },
    {
      "cell_type": "code",
      "source": [
        "number = int(input())\n",
        "\n",
        "if number>0:\n",
        "  print(\"Input is POSITIVE\")\n",
        "elif number<0:\n",
        "  print(\"Input is NEGATIVE\")\n",
        "else:\n",
        "  print(\"Input is ZERO\")"
      ],
      "metadata": {
        "id": "kFkhS6N3jtUR",
        "outputId": "b131762b-8c81-45ff-dc71-5a461d709ba2",
        "colab": {
          "base_uri": "https://localhost:8080/"
        }
      },
      "execution_count": 1,
      "outputs": [
        {
          "output_type": "stream",
          "name": "stdout",
          "text": [
            "2\n",
            "Input is POSITIVE\n"
          ]
        }
      ]
    },
    {
      "cell_type": "markdown",
      "source": [
        "##FOR - LOOP STATEMENT"
      ],
      "metadata": {
        "id": "3KyUWvsxj_uy"
      }
    },
    {
      "cell_type": "code",
      "source": [
        "week = [\"Sunday\", \"Monday\", \"Tuesday\", \"Wednesday\", \"Thursday\", \"Friday\", \"Saturday\"]\n",
        "\n",
        "for x in week: \n",
        "  print(x)\n",
        "\n",
        "if x == \"Thursday\":\n",
        "  break"
      ],
      "metadata": {
        "colab": {
          "base_uri": "https://localhost:8080/"
        },
        "id": "O3_u70SGkB5X",
        "outputId": "a46d132f-6496-42bc-fb49-44eba4a76d09"
      },
      "execution_count": null,
      "outputs": [
        {
          "output_type": "stream",
          "name": "stdout",
          "text": [
            "Sunday\n",
            "Monday\n",
            "Tuesday\n",
            "Wednesday\n",
            "Thursday\n",
            "Friday\n",
            "Saturday\n"
          ]
        }
      ]
    },
    {
      "cell_type": "markdown",
      "source": [
        "##THE BREAK STATEMENT"
      ],
      "metadata": {
        "id": "VzNLv6w_lLSe"
      }
    },
    {
      "cell_type": "code",
      "source": [
        "week = [\"Sunday\", \"Monday\", \"Tuesday\", \"Wednesday\", \"Thursday\", \"Friday\", \"Saturday\"]\n",
        "\n",
        "for x in week: \n",
        "  print(x)\n",
        "\n",
        "  if x == \"Thursday\": \n",
        "   break"
      ],
      "metadata": {
        "colab": {
          "base_uri": "https://localhost:8080/"
        },
        "id": "BATl1te_lMvO",
        "outputId": "f7ade78b-889a-4af2-be09-db00e77361f6"
      },
      "execution_count": null,
      "outputs": [
        {
          "output_type": "stream",
          "name": "stdout",
          "text": [
            "Sunday\n",
            "Monday\n",
            "Tuesday\n",
            "Wednesday\n",
            "Thursday\n"
          ]
        }
      ]
    },
    {
      "cell_type": "markdown",
      "source": [
        "##WHILE LOOP"
      ],
      "metadata": {
        "id": "ifMZBBLzloZ4"
      }
    },
    {
      "cell_type": "code",
      "source": [
        "y = 3\n",
        "\n",
        "while y<6:\n",
        "  print(y)\n",
        "  if y == 3:\n",
        "    break\n",
        "  y += 1 "
      ],
      "metadata": {
        "colab": {
          "base_uri": "https://localhost:8080/"
        },
        "id": "4fW3CVUolpl4",
        "outputId": "88117aee-74b2-452b-b34c-77e81a58d800"
      },
      "execution_count": null,
      "outputs": [
        {
          "output_type": "stream",
          "name": "stdout",
          "text": [
            "3\n"
          ]
        }
      ]
    }
  ]
}