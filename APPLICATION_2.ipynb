{
  "nbformat": 4,
  "nbformat_minor": 0,
  "metadata": {
    "colab": {
      "name": "APPLICATION 2.ipynb",
      "provenance": [],
      "authorship_tag": "ABX9TyNO2sQkLLZCDR4zRKV3rcS3",
      "include_colab_link": true
    },
    "kernelspec": {
      "name": "python3",
      "display_name": "Python 3"
    },
    "language_info": {
      "name": "python"
    }
  },
  "cells": [
    {
      "cell_type": "markdown",
      "metadata": {
        "id": "view-in-github",
        "colab_type": "text"
      },
      "source": [
        "<a href=\"https://colab.research.google.com/github/mrksntndr/NUMERICAL-METHODS---58011/blob/main/APPLICATION_2.ipynb\" target=\"_parent\"><img src=\"https://colab.research.google.com/assets/colab-badge.svg\" alt=\"Open In Colab\"/></a>"
      ]
    },
    {
      "cell_type": "code",
      "execution_count": 12,
      "metadata": {
        "colab": {
          "base_uri": "https://localhost:8080/"
        },
        "id": "jr4Z9nZXoEQp",
        "outputId": "b67d20c4-af4a-40de-9b3a-270098aab4f7"
      },
      "outputs": [
        {
          "output_type": "stream",
          "name": "stdout",
          "text": [
            "0\n",
            "Input is ZERO\n"
          ]
        }
      ],
      "source": [
        "number = int(input())\n",
        "\n",
        "if number>0:\n",
        "  print(\"Input is POSITIVE\")\n",
        "elif number<0:\n",
        "  print(\"Input is NEGATIVE\")\n",
        "else:\n",
        "  print(\"Input is ZERO\")"
      ]
    }
  ]
}